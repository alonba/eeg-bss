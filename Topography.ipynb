{
 "cells": [
  {
   "cell_type": "code",
   "execution_count": 2,
   "metadata": {},
   "outputs": [],
   "source": [
    "import numpy as np\n",
    "import mne as mne\n",
    "import matplotlib.pyplot as plt\n",
    "\n",
    "ELECTRODES_NUM = 35\n",
    "\n",
    "train_ICS = np.load('./data/train_ICS.npy')\n",
    "test_ICs = np.load('./data/test_ICs.npy')\n",
    "train_labels = np.load('./data/train_labels.npy')\n",
    "test_labels = np.load('./data/test_labels.npy')"
   ]
  },
  {
   "cell_type": "code",
   "execution_count": null,
   "metadata": {},
   "outputs": [],
   "source": []
  }
 ],
 "metadata": {
  "kernelspec": {
   "display_name": "Python 3.9.12 ('eeg_bss')",
   "language": "python",
   "name": "python3"
  },
  "language_info": {
   "codemirror_mode": {
    "name": "ipython",
    "version": 3
   },
   "file_extension": ".py",
   "mimetype": "text/x-python",
   "name": "python",
   "nbconvert_exporter": "python",
   "pygments_lexer": "ipython3",
   "version": "3.9.12"
  },
  "orig_nbformat": 4,
  "vscode": {
   "interpreter": {
    "hash": "67e3c108329f12f5017428fe2a369adc30e11445a3ac975861b336e7f7941808"
   }
  }
 },
 "nbformat": 4,
 "nbformat_minor": 2
}
