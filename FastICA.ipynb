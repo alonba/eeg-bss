{
  "cells": [
    {
      "cell_type": "markdown",
      "metadata": {
        "colab_type": "text",
        "id": "view-in-github"
      },
      "source": [
        "<a href=\"https://colab.research.google.com/github/alonba/eeg-bss/blob/main/FastICA.ipynb\" target=\"_parent\"><img src=\"https://colab.research.google.com/assets/colab-badge.svg\" alt=\"Open In Colab\"/></a>"
      ]
    },
    {
      "cell_type": "code",
      "execution_count": null,
      "metadata": {},
      "outputs": [],
      "source": [
        "!pip install mne\n",
        "!pip install pymatreader"
      ]
    },
    {
      "cell_type": "code",
      "execution_count": 19,
      "metadata": {
        "colab": {
          "base_uri": "https://localhost:8080/"
        },
        "id": "DOm1apWSzgRL",
        "outputId": "ca443715-fb6e-4ece-bf01-b5bfb491954f"
      },
      "outputs": [
        {
          "name": "stdout",
          "output_type": "stream",
          "text": [
            "Extracting parameters from c:\\Users\\alonb\\OneDrive - Technion\\טכניון\\סמסטר ט' - אביב 2022\\פרוייקט א\\eeg-bss\\35_electrodes_filtered_epoched.set...\n",
            "Not setting metadata\n",
            "474 matching events found\n",
            "No baseline correction applied\n",
            "0 projection items activated\n",
            "Ready.\n"
          ]
        }
      ],
      "source": [
        "# Fetch the data from the .set file\n",
        "import numpy as np\n",
        "import mne as mne\n",
        "eeglab_epochs = mne.io.read_epochs_eeglab('./35_electrodes_filtered_epoched.set')\n",
        "total_num_of_epochs = len(eeglab_epochs)\n",
        "train_set_size = int(total_num_of_epochs*0.8)\n",
        "test_set_size = total_num_of_epochs - train_set_size"
      ]
    },
    {
      "cell_type": "code",
      "execution_count": 47,
      "metadata": {},
      "outputs": [
        {
          "name": "stdout",
          "output_type": "stream",
          "text": [
            "380\n",
            "94\n"
          ]
        }
      ],
      "source": [
        "train_set_indexes = []\n",
        "test_set_indexes = []\n",
        "for i in range(total_num_of_epochs):\n",
        "    random_num = np.random.rand()\n",
        "    if (random_num < 0.8):  # 80% chance of being here\n",
        "        train_set_indexes.append(i)\n",
        "    else:\n",
        "        test_set_indexes.append(i)"
      ]
    },
    {
      "cell_type": "code",
      "execution_count": 49,
      "metadata": {},
      "outputs": [],
      "source": [
        "train_set = eeglab_epochs[train_set_indexes]\n",
        "test_set = eeglab_epochs[test_set_indexes]"
      ]
    },
    {
      "cell_type": "code",
      "execution_count": 52,
      "metadata": {},
      "outputs": [],
      "source": [
        "mne.export.export_epochs('train_set.set',train_set)\n",
        "mne.export.export_epochs('test_set.set',test_set)"
      ]
    },
    {
      "cell_type": "code",
      "execution_count": 6,
      "metadata": {
        "colab": {
          "base_uri": "https://localhost:8080/",
          "height": 277
        },
        "id": "AJxL50CpxxUg",
        "outputId": "3daa635d-dbab-4446-a15e-bdf3d575a86f"
      },
      "outputs": [
        {
          "name": "stdout",
          "output_type": "stream",
          "text": [
            "Fitting ICA to data using 64 channels (please be patient, this may take a while)\n"
          ]
        },
        {
          "name": "stderr",
          "output_type": "stream",
          "text": [
            "<ipython-input-6-aaabcbea4706>:2: RuntimeWarning: The data has not been high-pass filtered. For good ICA performance, it should be high-pass filtered (e.g., with a 1.0 Hz lower bound) before fitting ICA.\n",
            "  ica.fit(eeglab_epochs)\n"
          ]
        },
        {
          "name": "stdout",
          "output_type": "stream",
          "text": [
            "Selecting by number: 35 components\n",
            "Fitting ICA took 32.9s.\n"
          ]
        },
        {
          "data": {
            "text/html": [
              "<table class=\"table table-hover table-striped table-sm table-responsive small\">\n",
              "    <tr>\n",
              "        <th>Method</th>\n",
              "        <td>fastica</td>\n",
              "    </tr>\n",
              "    <tr>\n",
              "        <th>Fit</th>\n",
              "        <td>65 iterations on epochs (283800 samples)</td>\n",
              "    </tr>\n",
              "    \n",
              "    <tr>\n",
              "        <th>ICA components</th>\n",
              "        <td>35</td>\n",
              "    </tr>\n",
              "    <tr>\n",
              "        <th>Explained variance</th>\n",
              "        <td>100.0&nbsp;%</td>\n",
              "    </tr>\n",
              "    <tr>\n",
              "        <th>Available PCA components</th>\n",
              "        <td>64</td>\n",
              "    </tr>\n",
              "    <tr>\n",
              "        <th>Channel types</th>\n",
              "        <td>eeg</td>\n",
              "    </tr>\n",
              "    <tr>\n",
              "        <th>ICA components marked for exclusion</th>\n",
              "        <td>&mdash;</td>\n",
              "    </tr>\n",
              "    \n",
              "</table>"
            ],
            "text/plain": [
              "<ICA | epochs decomposition, method: fastica (fit in 65 iterations on 283800 samples), 35 ICA components explaining 100.0 % of variance (64 PCA components available), channel types: eeg, no sources marked for exclusion>"
            ]
          },
          "execution_count": 6,
          "metadata": {},
          "output_type": "execute_result"
        }
      ],
      "source": [
        "ica = mne.preprocessing.ICA(n_components=35)  # Defaults to FastICA\n",
        "ica.fit(eeglab_epochs)"
      ]
    },
    {
      "cell_type": "code",
      "execution_count": 27,
      "metadata": {
        "id": "pEqN9UPuxVDr"
      },
      "outputs": [],
      "source": [
        "fitted_ica = ica.copy()\n",
        "whitening = fitted_ica.pre_whitener_\n",
        "mixing = fitted_ica.mixing_matrix_\n",
        "unmixing = fitted_ica.unmixing_matrix_"
      ]
    },
    {
      "cell_type": "code",
      "execution_count": 28,
      "metadata": {
        "colab": {
          "base_uri": "https://localhost:8080/",
          "height": 210
        },
        "id": "4PvDXT5Xxr3O",
        "outputId": "010bf236-8acd-47d4-b601-e7cde6da3e52"
      },
      "outputs": [
        {
          "name": "stdout",
          "output_type": "stream",
          "text": [
            "Applying ICA to Epochs instance\n",
            "    Transforming to ICA space (35 components)\n",
            "    Zeroing out 0 ICA components\n",
            "    Projecting back using 64 PCA components\n"
          ]
        },
        {
          "data": {
            "text/html": [
              "<table class=\"table table-hover table-striped table-sm table-responsive small\">\n",
              "    <tr>\n",
              "        <th>Number of events</th>\n",
              "        <td>473</td>\n",
              "    </tr>\n",
              "    <tr>\n",
              "        <th>Events</th>\n",
              "        \n",
              "        <td>S  1: 145<br/>S  2: 160<br/>S  4: 168</td>\n",
              "        \n",
              "    </tr>\n",
              "    <tr>\n",
              "        <th>Time range</th>\n",
              "        <td>-0.200 – 0.998 sec</td>\n",
              "    </tr>\n",
              "    <tr>\n",
              "        <th>Baseline</th>\n",
              "        <td>off</td>\n",
              "    </tr>\n",
              "</table>"
            ],
            "text/plain": [
              "<EpochsEEGLAB |  473 events (all good), -0.2 - 0.998 sec, baseline off, ~138.6 MB, data loaded,\n",
              " 'S  4': 168\n",
              " 'S  2': 160\n",
              " 'S  1': 145>"
            ]
          },
          "execution_count": 28,
          "metadata": {},
          "output_type": "execute_result"
        }
      ],
      "source": [
        "ica.apply(eeglab_epochs)"
      ]
    },
    {
      "cell_type": "code",
      "execution_count": null,
      "metadata": {
        "id": "fNIUDoW2zVLe"
      },
      "outputs": [],
      "source": []
    }
  ],
  "metadata": {
    "colab": {
      "authorship_tag": "ABX9TyO1DKkxFxA50NjIAVRKsaIQ",
      "collapsed_sections": [],
      "include_colab_link": true,
      "name": "FastICA.ipynb",
      "provenance": []
    },
    "interpreter": {
      "hash": "67e3c108329f12f5017428fe2a369adc30e11445a3ac975861b336e7f7941808"
    },
    "kernelspec": {
      "display_name": "Python 3.9.12 ('eeg_bss')",
      "language": "python",
      "name": "python3"
    },
    "language_info": {
      "codemirror_mode": {
        "name": "ipython",
        "version": 3
      },
      "file_extension": ".py",
      "mimetype": "text/x-python",
      "name": "python",
      "nbconvert_exporter": "python",
      "pygments_lexer": "ipython3",
      "version": "3.9.12"
    }
  },
  "nbformat": 4,
  "nbformat_minor": 0
}
