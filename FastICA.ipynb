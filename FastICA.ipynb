{
  "cells": [
    {
      "cell_type": "markdown",
      "metadata": {
        "colab_type": "text",
        "id": "view-in-github"
      },
      "source": [
        "<a href=\"https://colab.research.google.com/github/alonba/eeg-bss/blob/main/FastICA.ipynb\" target=\"_parent\"><img src=\"https://colab.research.google.com/assets/colab-badge.svg\" alt=\"Open In Colab\"/></a>"
      ]
    },
    {
      "cell_type": "code",
      "execution_count": null,
      "metadata": {},
      "outputs": [],
      "source": [
        "!pip install mne\n",
        "!pip install pymatreader"
      ]
    },
    {
      "cell_type": "code",
      "execution_count": 1,
      "metadata": {
        "colab": {
          "base_uri": "https://localhost:8080/"
        },
        "id": "DOm1apWSzgRL",
        "outputId": "ca443715-fb6e-4ece-bf01-b5bfb491954f"
      },
      "outputs": [],
      "source": [
        "import numpy as np\n",
        "import mne as mne"
      ]
    },
    {
      "cell_type": "code",
      "execution_count": 28,
      "metadata": {},
      "outputs": [
        {
          "name": "stdout",
          "output_type": "stream",
          "text": [
            "Extracting parameters from c:\\Users\\alonb\\OneDrive - Technion\\טכניון\\סמסטר ט' - אביב 2022\\פרוייקט א\\eeg-bss\\35_electrodes_filtered_epoched.set...\n",
            "Not setting metadata\n",
            "474 matching events found\n",
            "No baseline correction applied\n",
            "0 projection items activated\n",
            "Ready.\n",
            "380\n",
            "94\n"
          ]
        }
      ],
      "source": [
        "# Fetch the data from the .set file\n",
        "eeglab_epochs = mne.io.read_epochs_eeglab('./35_electrodes_filtered_epoched.set')\n",
        "\n",
        "# Create the train set and test set\n",
        "total_num_of_epochs = len(eeglab_epochs)\n",
        "\n",
        "train_set_indexes = []\n",
        "test_set_indexes = []\n",
        "for i in range(total_num_of_epochs):\n",
        "    random_num = np.random.rand()\n",
        "    if (random_num < 0.8):  # 80% chance of being here\n",
        "        train_set_indexes.append(i)\n",
        "    else:\n",
        "        test_set_indexes.append(i)\n",
        "\n",
        "train_set = eeglab_epochs[train_set_indexes]\n",
        "test_set = eeglab_epochs[test_set_indexes]\n",
        "\n",
        "print(len(train_set))\n",
        "print(len(test_set))"
      ]
    },
    {
      "cell_type": "code",
      "execution_count": 30,
      "metadata": {},
      "outputs": [
        {
          "name": "stdout",
          "output_type": "stream",
          "text": [
            "Overwriting existing file.\n",
            "Overwriting existing file.\n"
          ]
        }
      ],
      "source": [
        "# Export the Data\n",
        "mne.export.export_epochs('train_set.set',train_set,overwrite=True)\n",
        "mne.export.export_epochs('test_set.set',test_set,overwrite=True)"
      ]
    },
    {
      "cell_type": "code",
      "execution_count": 4,
      "metadata": {
        "colab": {
          "base_uri": "https://localhost:8080/",
          "height": 277
        },
        "id": "AJxL50CpxxUg",
        "outputId": "3daa635d-dbab-4446-a15e-bdf3d575a86f"
      },
      "outputs": [
        {
          "ename": "NameError",
          "evalue": "name 'mne' is not defined",
          "output_type": "error",
          "traceback": [
            "\u001b[1;31m---------------------------------------------------------------------------\u001b[0m",
            "\u001b[1;31mNameError\u001b[0m                                 Traceback (most recent call last)",
            "\u001b[1;32mc:\\Users\\alonb\\OneDrive - Technion\\טכניון\\סמסטר ט' - אביב 2022\\פרוייקט א\\eeg-bss\\FastICA.ipynb Cell 6\u001b[0m in \u001b[0;36m<cell line: 1>\u001b[1;34m()\u001b[0m\n\u001b[1;32m----> <a href='vscode-notebook-cell:/c%3A/Users/alonb/OneDrive%20-%20Technion/%D7%98%D7%9B%D7%A0%D7%99%D7%95%D7%9F/%D7%A1%D7%9E%D7%A1%D7%98%D7%A8%20%D7%98%27%20-%20%D7%90%D7%91%D7%99%D7%91%202022/%D7%A4%D7%A8%D7%95%D7%99%D7%99%D7%A7%D7%98%20%D7%90/eeg-bss/FastICA.ipynb#ch0000004?line=0'>1</a>\u001b[0m train_set \u001b[39m=\u001b[39m mne\u001b[39m.\u001b[39mio\u001b[39m.\u001b[39mread_epochs_eeglab(\u001b[39m'\u001b[39m\u001b[39mtrain_set.set\u001b[39m\u001b[39m'\u001b[39m)\n\u001b[0;32m      <a href='vscode-notebook-cell:/c%3A/Users/alonb/OneDrive%20-%20Technion/%D7%98%D7%9B%D7%A0%D7%99%D7%95%D7%9F/%D7%A1%D7%9E%D7%A1%D7%98%D7%A8%20%D7%98%27%20-%20%D7%90%D7%91%D7%99%D7%91%202022/%D7%A4%D7%A8%D7%95%D7%99%D7%99%D7%A7%D7%98%20%D7%90/eeg-bss/FastICA.ipynb#ch0000004?line=1'>2</a>\u001b[0m train_ica \u001b[39m=\u001b[39m mne\u001b[39m.\u001b[39mpreprocessing\u001b[39m.\u001b[39mICA(n_components\u001b[39m=\u001b[39m\u001b[39m35\u001b[39m)  \u001b[39m# Defaults to FastICA\u001b[39;00m\n\u001b[0;32m      <a href='vscode-notebook-cell:/c%3A/Users/alonb/OneDrive%20-%20Technion/%D7%98%D7%9B%D7%A0%D7%99%D7%95%D7%9F/%D7%A1%D7%9E%D7%A1%D7%98%D7%A8%20%D7%98%27%20-%20%D7%90%D7%91%D7%99%D7%91%202022/%D7%A4%D7%A8%D7%95%D7%99%D7%99%D7%A7%D7%98%20%D7%90/eeg-bss/FastICA.ipynb#ch0000004?line=2'>3</a>\u001b[0m train_ica\u001b[39m.\u001b[39mfit(train_set)\n",
            "\u001b[1;31mNameError\u001b[0m: name 'mne' is not defined"
          ]
        }
      ],
      "source": [
        "train_set = mne.io.read_epochs_eeglab('train_set.set')\n",
        "train_ica = mne.preprocessing.ICA(n_components=35)  # Defaults to FastICA\n",
        "train_ica.fit(train_set)"
      ]
    },
    {
      "cell_type": "code",
      "execution_count": 3,
      "metadata": {},
      "outputs": [
        {
          "ename": "NameError",
          "evalue": "name 'train_set' is not defined",
          "output_type": "error",
          "traceback": [
            "\u001b[1;31m---------------------------------------------------------------------------\u001b[0m",
            "\u001b[1;31mNameError\u001b[0m                                 Traceback (most recent call last)",
            "\u001b[1;32mc:\\Users\\alonb\\OneDrive - Technion\\טכניון\\סמסטר ט' - אביב 2022\\פרוייקט א\\eeg-bss\\FastICA.ipynb Cell 7\u001b[0m in \u001b[0;36m<cell line: 1>\u001b[1;34m()\u001b[0m\n\u001b[1;32m----> <a href='vscode-notebook-cell:/c%3A/Users/alonb/OneDrive%20-%20Technion/%D7%98%D7%9B%D7%A0%D7%99%D7%95%D7%9F/%D7%A1%D7%9E%D7%A1%D7%98%D7%A8%20%D7%98%27%20-%20%D7%90%D7%91%D7%99%D7%91%202022/%D7%A4%D7%A8%D7%95%D7%99%D7%99%D7%A7%D7%98%20%D7%90/eeg-bss/FastICA.ipynb#ch0000005?line=0'>1</a>\u001b[0m train_set_left\u001b[39m=\u001b[39mtrain_set[\u001b[39m'\u001b[39m\u001b[39mLeft\u001b[39m\u001b[39m'\u001b[39m]\n\u001b[0;32m      <a href='vscode-notebook-cell:/c%3A/Users/alonb/OneDrive%20-%20Technion/%D7%98%D7%9B%D7%A0%D7%99%D7%95%D7%9F/%D7%A1%D7%9E%D7%A1%D7%98%D7%A8%20%D7%98%27%20-%20%D7%90%D7%91%D7%99%D7%91%202022/%D7%A4%D7%A8%D7%95%D7%99%D7%99%D7%A7%D7%98%20%D7%90/eeg-bss/FastICA.ipynb#ch0000005?line=1'>2</a>\u001b[0m train_set_right\u001b[39m=\u001b[39mtrain_set[\u001b[39m'\u001b[39m\u001b[39mRight\u001b[39m\u001b[39m'\u001b[39m]\n\u001b[0;32m      <a href='vscode-notebook-cell:/c%3A/Users/alonb/OneDrive%20-%20Technion/%D7%98%D7%9B%D7%A0%D7%99%D7%95%D7%9F/%D7%A1%D7%9E%D7%A1%D7%98%D7%A8%20%D7%98%27%20-%20%D7%90%D7%91%D7%99%D7%91%202022/%D7%A4%D7%A8%D7%95%D7%99%D7%99%D7%A7%D7%98%20%D7%90/eeg-bss/FastICA.ipynb#ch0000005?line=2'>3</a>\u001b[0m train_set_no_move\u001b[39m=\u001b[39mtrain_set[\u001b[39m'\u001b[39m\u001b[39mNoMove\u001b[39m\u001b[39m'\u001b[39m]\n",
            "\u001b[1;31mNameError\u001b[0m: name 'train_set' is not defined"
          ]
        }
      ],
      "source": [
        "train_set_left=train_set['Left']\n",
        "train_set_right=train_set['Right']\n",
        "train_set_no_move=train_set['NoMove']"
      ]
    },
    {
      "cell_type": "code",
      "execution_count": 2,
      "metadata": {},
      "outputs": [
        {
          "ename": "NameError",
          "evalue": "name 'train_set_left' is not defined",
          "output_type": "error",
          "traceback": [
            "\u001b[1;31m---------------------------------------------------------------------------\u001b[0m",
            "\u001b[1;31mNameError\u001b[0m                                 Traceback (most recent call last)",
            "\u001b[1;32mc:\\Users\\alonb\\OneDrive - Technion\\טכניון\\סמסטר ט' - אביב 2022\\פרוייקט א\\eeg-bss\\FastICA.ipynb Cell 8\u001b[0m in \u001b[0;36m<cell line: 4>\u001b[1;34m()\u001b[0m\n\u001b[0;32m      <a href='vscode-notebook-cell:/c%3A/Users/alonb/OneDrive%20-%20Technion/%D7%98%D7%9B%D7%A0%D7%99%D7%95%D7%9F/%D7%A1%D7%9E%D7%A1%D7%98%D7%A8%20%D7%98%27%20-%20%D7%90%D7%91%D7%99%D7%91%202022/%D7%A4%D7%A8%D7%95%D7%99%D7%99%D7%A7%D7%98%20%D7%90/eeg-bss/FastICA.ipynb#ch0000006?line=2'>3</a>\u001b[0m train_no_move_reconstructed \u001b[39m=\u001b[39m []\n\u001b[0;32m      <a href='vscode-notebook-cell:/c%3A/Users/alonb/OneDrive%20-%20Technion/%D7%98%D7%9B%D7%A0%D7%99%D7%95%D7%9F/%D7%A1%D7%9E%D7%A1%D7%98%D7%A8%20%D7%98%27%20-%20%D7%90%D7%91%D7%99%D7%91%202022/%D7%A4%D7%A8%D7%95%D7%99%D7%99%D7%A7%D7%98%20%D7%90/eeg-bss/FastICA.ipynb#ch0000006?line=3'>4</a>\u001b[0m \u001b[39mfor\u001b[39;00m i \u001b[39min\u001b[39;00m \u001b[39mrange\u001b[39m(\u001b[39m35\u001b[39m):\n\u001b[1;32m----> <a href='vscode-notebook-cell:/c%3A/Users/alonb/OneDrive%20-%20Technion/%D7%98%D7%9B%D7%A0%D7%99%D7%95%D7%9F/%D7%A1%D7%9E%D7%A1%D7%98%D7%A8%20%D7%98%27%20-%20%D7%90%D7%91%D7%99%D7%91%202022/%D7%A4%D7%A8%D7%95%D7%99%D7%99%D7%A7%D7%98%20%D7%90/eeg-bss/FastICA.ipynb#ch0000006?line=4'>5</a>\u001b[0m     tmp_train_left \u001b[39m=\u001b[39m train_set_left\u001b[39m.\u001b[39mcopy()\n\u001b[0;32m      <a href='vscode-notebook-cell:/c%3A/Users/alonb/OneDrive%20-%20Technion/%D7%98%D7%9B%D7%A0%D7%99%D7%95%D7%9F/%D7%A1%D7%9E%D7%A1%D7%98%D7%A8%20%D7%98%27%20-%20%D7%90%D7%91%D7%99%D7%91%202022/%D7%A4%D7%A8%D7%95%D7%99%D7%99%D7%A7%D7%98%20%D7%90/eeg-bss/FastICA.ipynb#ch0000006?line=5'>6</a>\u001b[0m     tmp_train_right \u001b[39m=\u001b[39m train_set_right\u001b[39m.\u001b[39mcopy()\n\u001b[0;32m      <a href='vscode-notebook-cell:/c%3A/Users/alonb/OneDrive%20-%20Technion/%D7%98%D7%9B%D7%A0%D7%99%D7%95%D7%9F/%D7%A1%D7%9E%D7%A1%D7%98%D7%A8%20%D7%98%27%20-%20%D7%90%D7%91%D7%99%D7%91%202022/%D7%A4%D7%A8%D7%95%D7%99%D7%99%D7%A7%D7%98%20%D7%90/eeg-bss/FastICA.ipynb#ch0000006?line=6'>7</a>\u001b[0m     tmp_train_no_move \u001b[39m=\u001b[39m train_set_no_move\u001b[39m.\u001b[39mcopy()\n",
            "\u001b[1;31mNameError\u001b[0m: name 'train_set_left' is not defined"
          ]
        }
      ],
      "source": [
        "train_left_reconstructed = []\n",
        "train_right_reconstructed = []\n",
        "train_no_move_reconstructed = []\n",
        "for i in range(35):\n",
        "    tmp_train_left = train_set_left.copy()\n",
        "    tmp_train_right = train_set_right.copy()\n",
        "    tmp_train_no_move = train_set_no_move.copy()\n",
        "    train_left_reconstructed.append(train_ica.apply(tmp_train_left,include=i))\n",
        "    train_right_reconstructed.append(train_ica.apply(tmp_train_right,include=i))\n",
        "    train_no_move_reconstructed.append(train_ica.apply(tmp_train_no_move,include=i))\n"
      ]
    }
  ],
  "metadata": {
    "colab": {
      "authorship_tag": "ABX9TyO1DKkxFxA50NjIAVRKsaIQ",
      "collapsed_sections": [],
      "include_colab_link": true,
      "name": "FastICA.ipynb",
      "provenance": []
    },
    "interpreter": {
      "hash": "67e3c108329f12f5017428fe2a369adc30e11445a3ac975861b336e7f7941808"
    },
    "kernelspec": {
      "display_name": "Python 3.9.12 ('eeg_bss')",
      "language": "python",
      "name": "python3"
    },
    "language_info": {
      "codemirror_mode": {
        "name": "ipython",
        "version": 3
      },
      "file_extension": ".py",
      "mimetype": "text/x-python",
      "name": "python",
      "nbconvert_exporter": "python",
      "pygments_lexer": "ipython3",
      "version": "3.9.12"
    }
  },
  "nbformat": 4,
  "nbformat_minor": 0
}
