{
  "cells": [
    {
      "cell_type": "markdown",
      "metadata": {
        "colab_type": "text",
        "id": "view-in-github"
      },
      "source": [
        "<a href=\"https://colab.research.google.com/github/alonba/eeg-bss/blob/main/FastICA.ipynb\" target=\"_parent\"><img src=\"https://colab.research.google.com/assets/colab-badge.svg\" alt=\"Open In Colab\"/></a>"
      ]
    },
    {
      "cell_type": "code",
      "execution_count": null,
      "metadata": {},
      "outputs": [],
      "source": [
        "!pip install mne\n",
        "!pip install pymatreader"
      ]
    },
    {
      "cell_type": "code",
      "execution_count": 2,
      "metadata": {
        "colab": {
          "base_uri": "https://localhost:8080/"
        },
        "id": "DOm1apWSzgRL",
        "outputId": "ca443715-fb6e-4ece-bf01-b5bfb491954f"
      },
      "outputs": [],
      "source": [
        "import numpy as np\n",
        "import mne as mne"
      ]
    },
    {
      "cell_type": "code",
      "execution_count": null,
      "metadata": {},
      "outputs": [],
      "source": [
        "# Fetch the data from the .set file\n",
        "eeglab_epochs = mne.io.read_epochs_eeglab('./35_electrodes_filtered_epoched.set')\n",
        "\n",
        "# Create the train set and test set\n",
        "total_num_of_epochs = len(eeglab_epochs)\n",
        "train_set_size = int(total_num_of_epochs*0.8)\n",
        "test_set_size = total_num_of_epochs - train_set_size\n",
        "\n",
        "train_set_indexes = []\n",
        "test_set_indexes = []\n",
        "for i in range(total_num_of_epochs):\n",
        "    random_num = np.random.rand()\n",
        "    if (random_num < 0.8):  # 80% chance of being here\n",
        "        train_set_indexes.append(i)\n",
        "    else:\n",
        "        test_set_indexes.append(i)\n",
        "\n",
        "train_set = eeglab_epochs[train_set_indexes]\n",
        "test_set = eeglab_epochs[test_set_indexes]\n",
        "\n",
        "# Export the Data\n",
        "mne.export.export_epochs('train_set.set',train_set)\n",
        "mne.export.export_epochs('test_set.set',test_set)"
      ]
    },
    {
      "cell_type": "code",
      "execution_count": 3,
      "metadata": {
        "colab": {
          "base_uri": "https://localhost:8080/",
          "height": 277
        },
        "id": "AJxL50CpxxUg",
        "outputId": "3daa635d-dbab-4446-a15e-bdf3d575a86f"
      },
      "outputs": [
        {
          "name": "stdout",
          "output_type": "stream",
          "text": [
            "Extracting parameters from c:\\Users\\alonb\\OneDrive - Technion\\טכניון\\סמסטר ט' - אביב 2022\\פרוייקט א\\eeg-bss\\train_set.set...\n",
            "Not setting metadata\n",
            "380 matching events found\n",
            "No baseline correction applied\n",
            "0 projection items activated\n",
            "Ready.\n",
            "Fitting ICA to data using 35 channels (please be patient, this may take a while)\n"
          ]
        },
        {
          "name": "stderr",
          "output_type": "stream",
          "text": [
            "C:\\Users\\alonb\\AppData\\Local\\Temp\\ipykernel_9860\\2758163773.py:3: RuntimeWarning: The data has not been high-pass filtered. For good ICA performance, it should be high-pass filtered (e.g., with a 1.0 Hz lower bound) before fitting ICA.\n",
            "  train_ica.fit(train_set)\n"
          ]
        },
        {
          "name": "stdout",
          "output_type": "stream",
          "text": [
            "Selecting by number: 35 components\n"
          ]
        },
        {
          "ename": "KeyboardInterrupt",
          "evalue": "",
          "output_type": "error",
          "traceback": [
            "\u001b[1;31m---------------------------------------------------------------------------\u001b[0m",
            "\u001b[1;31mKeyboardInterrupt\u001b[0m                         Traceback (most recent call last)",
            "\u001b[1;32mc:\\Users\\alonb\\OneDrive - Technion\\טכניון\\סמסטר ט' - אביב 2022\\פרוייקט א\\eeg-bss\\FastICA.ipynb Cell 5'\u001b[0m in \u001b[0;36m<cell line: 3>\u001b[1;34m()\u001b[0m\n\u001b[0;32m      <a href='vscode-notebook-cell:/c%3A/Users/alonb/OneDrive%20-%20Technion/%D7%98%D7%9B%D7%A0%D7%99%D7%95%D7%9F/%D7%A1%D7%9E%D7%A1%D7%98%D7%A8%20%D7%98%27%20-%20%D7%90%D7%91%D7%99%D7%91%202022/%D7%A4%D7%A8%D7%95%D7%99%D7%99%D7%A7%D7%98%20%D7%90/eeg-bss/FastICA.ipynb#ch0000004?line=0'>1</a>\u001b[0m train_set \u001b[39m=\u001b[39m mne\u001b[39m.\u001b[39mio\u001b[39m.\u001b[39mread_epochs_eeglab(\u001b[39m'\u001b[39m\u001b[39mtrain_set.set\u001b[39m\u001b[39m'\u001b[39m)\n\u001b[0;32m      <a href='vscode-notebook-cell:/c%3A/Users/alonb/OneDrive%20-%20Technion/%D7%98%D7%9B%D7%A0%D7%99%D7%95%D7%9F/%D7%A1%D7%9E%D7%A1%D7%98%D7%A8%20%D7%98%27%20-%20%D7%90%D7%91%D7%99%D7%91%202022/%D7%A4%D7%A8%D7%95%D7%99%D7%99%D7%A7%D7%98%20%D7%90/eeg-bss/FastICA.ipynb#ch0000004?line=1'>2</a>\u001b[0m train_ica \u001b[39m=\u001b[39m mne\u001b[39m.\u001b[39mpreprocessing\u001b[39m.\u001b[39mICA(n_components\u001b[39m=\u001b[39m\u001b[39m35\u001b[39m)  \u001b[39m# Defaults to FastICA\u001b[39;00m\n\u001b[1;32m----> <a href='vscode-notebook-cell:/c%3A/Users/alonb/OneDrive%20-%20Technion/%D7%98%D7%9B%D7%A0%D7%99%D7%95%D7%9F/%D7%A1%D7%9E%D7%A1%D7%98%D7%A8%20%D7%98%27%20-%20%D7%90%D7%91%D7%99%D7%91%202022/%D7%A4%D7%A8%D7%95%D7%99%D7%99%D7%A7%D7%98%20%D7%90/eeg-bss/FastICA.ipynb#ch0000004?line=2'>3</a>\u001b[0m train_ica\u001b[39m.\u001b[39;49mfit(train_set)\n",
            "File \u001b[1;32m<decorator-gen-416>:12\u001b[0m, in \u001b[0;36mfit\u001b[1;34m(self, inst, picks, start, stop, decim, reject, flat, tstep, reject_by_annotation, verbose)\u001b[0m\n",
            "File \u001b[1;32mc:\\Users\\alonb\\anaconda3\\envs\\eeg_bss\\lib\\site-packages\\mne\\preprocessing\\ica.py:661\u001b[0m, in \u001b[0;36mICA.fit\u001b[1;34m(self, inst, picks, start, stop, decim, reject, flat, tstep, reject_by_annotation, verbose)\u001b[0m\n\u001b[0;32m    659\u001b[0m \u001b[39melse\u001b[39;00m:\n\u001b[0;32m    660\u001b[0m     \u001b[39massert\u001b[39;00m \u001b[39misinstance\u001b[39m(inst, BaseEpochs)\n\u001b[1;32m--> 661\u001b[0m     \u001b[39mself\u001b[39;49m\u001b[39m.\u001b[39;49m_fit_epochs(inst, picks, decim, verbose)\n\u001b[0;32m    663\u001b[0m \u001b[39m# sort ICA components by explained variance\u001b[39;00m\n\u001b[0;32m    664\u001b[0m var \u001b[39m=\u001b[39m _ica_explained_variance(\u001b[39mself\u001b[39m, inst)\n",
            "File \u001b[1;32mc:\\Users\\alonb\\anaconda3\\envs\\eeg_bss\\lib\\site-packages\\mne\\preprocessing\\ica.py:723\u001b[0m, in \u001b[0;36mICA._fit_epochs\u001b[1;34m(self, epochs, picks, decim, verbose)\u001b[0m\n\u001b[0;32m    720\u001b[0m \u001b[39m# This will make at least one copy (one from hstack, maybe one\u001b[39;00m\n\u001b[0;32m    721\u001b[0m \u001b[39m# more from _pre_whiten)\u001b[39;00m\n\u001b[0;32m    722\u001b[0m data \u001b[39m=\u001b[39m np\u001b[39m.\u001b[39mhstack(data)\n\u001b[1;32m--> 723\u001b[0m \u001b[39mself\u001b[39;49m\u001b[39m.\u001b[39;49m_fit(data, \u001b[39m'\u001b[39;49m\u001b[39mepochs\u001b[39;49m\u001b[39m'\u001b[39;49m)\n\u001b[0;32m    725\u001b[0m \u001b[39mreturn\u001b[39;00m \u001b[39mself\u001b[39m\n",
            "File \u001b[1;32mc:\\Users\\alonb\\anaconda3\\envs\\eeg_bss\\lib\\site-packages\\mne\\preprocessing\\ica.py:840\u001b[0m, in \u001b[0;36mICA._fit\u001b[1;34m(self, data, fit_type)\u001b[0m\n\u001b[0;32m    837\u001b[0m \u001b[39mfrom\u001b[39;00m \u001b[39msklearn\u001b[39;00m\u001b[39m.\u001b[39;00m\u001b[39mdecomposition\u001b[39;00m \u001b[39mimport\u001b[39;00m FastICA\n\u001b[0;32m    838\u001b[0m ica \u001b[39m=\u001b[39m FastICA(\n\u001b[0;32m    839\u001b[0m     whiten\u001b[39m=\u001b[39m\u001b[39mFalse\u001b[39;00m, random_state\u001b[39m=\u001b[39mrandom_state, \u001b[39m*\u001b[39m\u001b[39m*\u001b[39m\u001b[39mself\u001b[39m\u001b[39m.\u001b[39mfit_params)\n\u001b[1;32m--> 840\u001b[0m ica\u001b[39m.\u001b[39;49mfit(data[:, sel])\n\u001b[0;32m    841\u001b[0m \u001b[39mself\u001b[39m\u001b[39m.\u001b[39munmixing_matrix_ \u001b[39m=\u001b[39m ica\u001b[39m.\u001b[39mcomponents_\n\u001b[0;32m    842\u001b[0m \u001b[39mself\u001b[39m\u001b[39m.\u001b[39mn_iter_ \u001b[39m=\u001b[39m ica\u001b[39m.\u001b[39mn_iter_\n",
            "File \u001b[1;32mc:\\Users\\alonb\\anaconda3\\envs\\eeg_bss\\lib\\site-packages\\sklearn\\decomposition\\_fastica.py:673\u001b[0m, in \u001b[0;36mFastICA.fit\u001b[1;34m(self, X, y)\u001b[0m\n\u001b[0;32m    656\u001b[0m \u001b[39mdef\u001b[39;00m \u001b[39mfit\u001b[39m(\u001b[39mself\u001b[39m, X, y\u001b[39m=\u001b[39m\u001b[39mNone\u001b[39;00m):\n\u001b[0;32m    657\u001b[0m     \u001b[39m\"\"\"Fit the model to X.\u001b[39;00m\n\u001b[0;32m    658\u001b[0m \n\u001b[0;32m    659\u001b[0m \u001b[39m    Parameters\u001b[39;00m\n\u001b[1;32m   (...)\u001b[0m\n\u001b[0;32m    671\u001b[0m \u001b[39m        Returns the instance itself.\u001b[39;00m\n\u001b[0;32m    672\u001b[0m \u001b[39m    \"\"\"\u001b[39;00m\n\u001b[1;32m--> 673\u001b[0m     \u001b[39mself\u001b[39;49m\u001b[39m.\u001b[39;49m_fit(X, compute_sources\u001b[39m=\u001b[39;49m\u001b[39mFalse\u001b[39;49;00m)\n\u001b[0;32m    674\u001b[0m     \u001b[39mreturn\u001b[39;00m \u001b[39mself\u001b[39m\n",
            "File \u001b[1;32mc:\\Users\\alonb\\anaconda3\\envs\\eeg_bss\\lib\\site-packages\\sklearn\\decomposition\\_fastica.py:598\u001b[0m, in \u001b[0;36mFastICA._fit\u001b[1;34m(self, X, compute_sources)\u001b[0m\n\u001b[0;32m    589\u001b[0m kwargs \u001b[39m=\u001b[39m {\n\u001b[0;32m    590\u001b[0m     \u001b[39m\"\u001b[39m\u001b[39mtol\u001b[39m\u001b[39m\"\u001b[39m: \u001b[39mself\u001b[39m\u001b[39m.\u001b[39mtol,\n\u001b[0;32m    591\u001b[0m     \u001b[39m\"\u001b[39m\u001b[39mg\u001b[39m\u001b[39m\"\u001b[39m: g,\n\u001b[1;32m   (...)\u001b[0m\n\u001b[0;32m    594\u001b[0m     \u001b[39m\"\u001b[39m\u001b[39mw_init\u001b[39m\u001b[39m\"\u001b[39m: w_init,\n\u001b[0;32m    595\u001b[0m }\n\u001b[0;32m    597\u001b[0m \u001b[39mif\u001b[39;00m \u001b[39mself\u001b[39m\u001b[39m.\u001b[39malgorithm \u001b[39m==\u001b[39m \u001b[39m\"\u001b[39m\u001b[39mparallel\u001b[39m\u001b[39m\"\u001b[39m:\n\u001b[1;32m--> 598\u001b[0m     W, n_iter \u001b[39m=\u001b[39m _ica_par(X1, \u001b[39m*\u001b[39m\u001b[39m*\u001b[39mkwargs)\n\u001b[0;32m    599\u001b[0m \u001b[39melif\u001b[39;00m \u001b[39mself\u001b[39m\u001b[39m.\u001b[39malgorithm \u001b[39m==\u001b[39m \u001b[39m\"\u001b[39m\u001b[39mdeflation\u001b[39m\u001b[39m\"\u001b[39m:\n\u001b[0;32m    600\u001b[0m     W, n_iter \u001b[39m=\u001b[39m _ica_def(X1, \u001b[39m*\u001b[39m\u001b[39m*\u001b[39mkwargs)\n",
            "File \u001b[1;32mc:\\Users\\alonb\\anaconda3\\envs\\eeg_bss\\lib\\site-packages\\sklearn\\decomposition\\_fastica.py:111\u001b[0m, in \u001b[0;36m_ica_par\u001b[1;34m(***failed resolving arguments***)\u001b[0m\n\u001b[0;32m    109\u001b[0m p_ \u001b[39m=\u001b[39m \u001b[39mfloat\u001b[39m(X\u001b[39m.\u001b[39mshape[\u001b[39m1\u001b[39m])\n\u001b[0;32m    110\u001b[0m \u001b[39mfor\u001b[39;00m ii \u001b[39min\u001b[39;00m \u001b[39mrange\u001b[39m(max_iter):\n\u001b[1;32m--> 111\u001b[0m     gwtx, g_wtx \u001b[39m=\u001b[39m g(np\u001b[39m.\u001b[39;49mdot(W, X), fun_args)\n\u001b[0;32m    112\u001b[0m     W1 \u001b[39m=\u001b[39m _sym_decorrelation(np\u001b[39m.\u001b[39mdot(gwtx, X\u001b[39m.\u001b[39mT) \u001b[39m/\u001b[39m p_ \u001b[39m-\u001b[39m g_wtx[:, np\u001b[39m.\u001b[39mnewaxis] \u001b[39m*\u001b[39m W)\n\u001b[0;32m    113\u001b[0m     \u001b[39mdel\u001b[39;00m gwtx, g_wtx\n",
            "File \u001b[1;32mc:\\Users\\alonb\\anaconda3\\envs\\eeg_bss\\lib\\site-packages\\sklearn\\decomposition\\_fastica.py:139\u001b[0m, in \u001b[0;36m_logcosh\u001b[1;34m(x, fun_args)\u001b[0m\n\u001b[0;32m    137\u001b[0m \u001b[39m# XXX compute in chunks to avoid extra allocation\u001b[39;00m\n\u001b[0;32m    138\u001b[0m \u001b[39mfor\u001b[39;00m i, gx_i \u001b[39min\u001b[39;00m \u001b[39menumerate\u001b[39m(gx):  \u001b[39m# please don't vectorize.\u001b[39;00m\n\u001b[1;32m--> 139\u001b[0m     g_x[i] \u001b[39m=\u001b[39m (alpha \u001b[39m*\u001b[39m (\u001b[39m1\u001b[39m \u001b[39m-\u001b[39m gx_i\u001b[39m*\u001b[39;49m\u001b[39m*\u001b[39;49m\u001b[39m2\u001b[39;49m))\u001b[39m.\u001b[39mmean()\n\u001b[0;32m    140\u001b[0m \u001b[39mreturn\u001b[39;00m gx, g_x\n",
            "\u001b[1;31mKeyboardInterrupt\u001b[0m: "
          ]
        }
      ],
      "source": [
        "train_set = mne.io.read_epochs_eeglab('train_set.set')\n",
        "train_ica = mne.preprocessing.ICA(n_components=35)  # Defaults to FastICA\n",
        "train_ica.fit(train_set)"
      ]
    },
    {
      "cell_type": "code",
      "execution_count": 12,
      "metadata": {},
      "outputs": [],
      "source": [
        "train_set_S1=train_set['S  1']\n",
        "train_set_S2=train_set['S  2']\n",
        "train_set_S4=train_set['S  4']"
      ]
    },
    {
      "cell_type": "code",
      "execution_count": 13,
      "metadata": {},
      "outputs": [
        {
          "name": "stdout",
          "output_type": "stream",
          "text": [
            "Applying ICA to Epochs instance\n",
            "    Transforming to ICA space (35 components)\n",
            "    Zeroing out 34 ICA components\n",
            "    Projecting back using 35 PCA components\n",
            "Applying ICA to Epochs instance\n",
            "    Transforming to ICA space (35 components)\n",
            "    Zeroing out 34 ICA components\n",
            "    Projecting back using 35 PCA components\n",
            "Applying ICA to Epochs instance\n",
            "    Transforming to ICA space (35 components)\n",
            "    Zeroing out 34 ICA components\n",
            "    Projecting back using 35 PCA components\n",
            "Applying ICA to Epochs instance\n",
            "    Transforming to ICA space (35 components)\n",
            "    Zeroing out 34 ICA components\n",
            "    Projecting back using 35 PCA components\n",
            "Applying ICA to Epochs instance\n",
            "    Transforming to ICA space (35 components)\n",
            "    Zeroing out 34 ICA components\n",
            "    Projecting back using 35 PCA components\n",
            "Applying ICA to Epochs instance\n",
            "    Transforming to ICA space (35 components)\n",
            "    Zeroing out 34 ICA components\n",
            "    Projecting back using 35 PCA components\n",
            "Applying ICA to Epochs instance\n",
            "    Transforming to ICA space (35 components)\n",
            "    Zeroing out 34 ICA components\n",
            "    Projecting back using 35 PCA components\n",
            "Applying ICA to Epochs instance\n",
            "    Transforming to ICA space (35 components)\n",
            "    Zeroing out 34 ICA components\n",
            "    Projecting back using 35 PCA components\n",
            "Applying ICA to Epochs instance\n",
            "    Transforming to ICA space (35 components)\n",
            "    Zeroing out 34 ICA components\n",
            "    Projecting back using 35 PCA components\n",
            "Applying ICA to Epochs instance\n",
            "    Transforming to ICA space (35 components)\n",
            "    Zeroing out 34 ICA components\n",
            "    Projecting back using 35 PCA components\n",
            "Applying ICA to Epochs instance\n",
            "    Transforming to ICA space (35 components)\n",
            "    Zeroing out 34 ICA components\n",
            "    Projecting back using 35 PCA components\n",
            "Applying ICA to Epochs instance\n",
            "    Transforming to ICA space (35 components)\n",
            "    Zeroing out 34 ICA components\n",
            "    Projecting back using 35 PCA components\n",
            "Applying ICA to Epochs instance\n",
            "    Transforming to ICA space (35 components)\n",
            "    Zeroing out 34 ICA components\n",
            "    Projecting back using 35 PCA components\n",
            "Applying ICA to Epochs instance\n",
            "    Transforming to ICA space (35 components)\n",
            "    Zeroing out 34 ICA components\n",
            "    Projecting back using 35 PCA components\n",
            "Applying ICA to Epochs instance\n",
            "    Transforming to ICA space (35 components)\n",
            "    Zeroing out 34 ICA components\n",
            "    Projecting back using 35 PCA components\n",
            "Applying ICA to Epochs instance\n",
            "    Transforming to ICA space (35 components)\n",
            "    Zeroing out 34 ICA components\n",
            "    Projecting back using 35 PCA components\n",
            "Applying ICA to Epochs instance\n",
            "    Transforming to ICA space (35 components)\n",
            "    Zeroing out 34 ICA components\n",
            "    Projecting back using 35 PCA components\n",
            "Applying ICA to Epochs instance\n",
            "    Transforming to ICA space (35 components)\n",
            "    Zeroing out 34 ICA components\n",
            "    Projecting back using 35 PCA components\n",
            "Applying ICA to Epochs instance\n",
            "    Transforming to ICA space (35 components)\n",
            "    Zeroing out 34 ICA components\n",
            "    Projecting back using 35 PCA components\n",
            "Applying ICA to Epochs instance\n",
            "    Transforming to ICA space (35 components)\n",
            "    Zeroing out 34 ICA components\n",
            "    Projecting back using 35 PCA components\n",
            "Applying ICA to Epochs instance\n",
            "    Transforming to ICA space (35 components)\n",
            "    Zeroing out 34 ICA components\n",
            "    Projecting back using 35 PCA components\n",
            "Applying ICA to Epochs instance\n",
            "    Transforming to ICA space (35 components)\n",
            "    Zeroing out 34 ICA components\n",
            "    Projecting back using 35 PCA components\n",
            "Applying ICA to Epochs instance\n",
            "    Transforming to ICA space (35 components)\n",
            "    Zeroing out 34 ICA components\n",
            "    Projecting back using 35 PCA components\n",
            "Applying ICA to Epochs instance\n",
            "    Transforming to ICA space (35 components)\n",
            "    Zeroing out 34 ICA components\n",
            "    Projecting back using 35 PCA components\n",
            "Applying ICA to Epochs instance\n",
            "    Transforming to ICA space (35 components)\n",
            "    Zeroing out 34 ICA components\n",
            "    Projecting back using 35 PCA components\n",
            "Applying ICA to Epochs instance\n",
            "    Transforming to ICA space (35 components)\n",
            "    Zeroing out 34 ICA components\n",
            "    Projecting back using 35 PCA components\n",
            "Applying ICA to Epochs instance\n",
            "    Transforming to ICA space (35 components)\n",
            "    Zeroing out 34 ICA components\n",
            "    Projecting back using 35 PCA components\n",
            "Applying ICA to Epochs instance\n",
            "    Transforming to ICA space (35 components)\n",
            "    Zeroing out 34 ICA components\n",
            "    Projecting back using 35 PCA components\n",
            "Applying ICA to Epochs instance\n",
            "    Transforming to ICA space (35 components)\n",
            "    Zeroing out 34 ICA components\n",
            "    Projecting back using 35 PCA components\n",
            "Applying ICA to Epochs instance\n",
            "    Transforming to ICA space (35 components)\n",
            "    Zeroing out 34 ICA components\n",
            "    Projecting back using 35 PCA components\n",
            "Applying ICA to Epochs instance\n",
            "    Transforming to ICA space (35 components)\n",
            "    Zeroing out 34 ICA components\n",
            "    Projecting back using 35 PCA components\n",
            "Applying ICA to Epochs instance\n",
            "    Transforming to ICA space (35 components)\n",
            "    Zeroing out 34 ICA components\n",
            "    Projecting back using 35 PCA components\n",
            "Applying ICA to Epochs instance\n",
            "    Transforming to ICA space (35 components)\n",
            "    Zeroing out 34 ICA components\n",
            "    Projecting back using 35 PCA components\n",
            "Applying ICA to Epochs instance\n",
            "    Transforming to ICA space (35 components)\n",
            "    Zeroing out 34 ICA components\n",
            "    Projecting back using 35 PCA components\n",
            "Applying ICA to Epochs instance\n",
            "    Transforming to ICA space (35 components)\n",
            "    Zeroing out 34 ICA components\n",
            "    Projecting back using 35 PCA components\n"
          ]
        }
      ],
      "source": [
        "train_S1_reconstructed = []\n",
        "train_S2_reconstructed = []\n",
        "train_S4_reconstructed = []\n",
        "for i in range(35):\n",
        "    tmp_train_S1 = train_set_S1.copy()\n",
        "    tmp_train_S2 = train_set_S2.copy()\n",
        "    tmp_train_S4 = train_set_S4.copy()\n",
        "    train_S1_reconstructed.append(train_ica.apply(tmp_train_S1,include=i))\n",
        "    train_S2_reconstructed.append(train_ica.apply(tmp_train_S2,include=i))\n",
        "    train_S4_reconstructed.append(train_ica.apply(tmp_train_S4,include=i))\n"
      ]
    }
  ],
  "metadata": {
    "colab": {
      "authorship_tag": "ABX9TyO1DKkxFxA50NjIAVRKsaIQ",
      "collapsed_sections": [],
      "include_colab_link": true,
      "name": "FastICA.ipynb",
      "provenance": []
    },
    "interpreter": {
      "hash": "67e3c108329f12f5017428fe2a369adc30e11445a3ac975861b336e7f7941808"
    },
    "kernelspec": {
      "display_name": "Python 3.9.12 ('eeg_bss')",
      "language": "python",
      "name": "python3"
    },
    "language_info": {
      "codemirror_mode": {
        "name": "ipython",
        "version": 3
      },
      "file_extension": ".py",
      "mimetype": "text/x-python",
      "name": "python",
      "nbconvert_exporter": "python",
      "pygments_lexer": "ipython3",
      "version": "3.9.12"
    }
  },
  "nbformat": 4,
  "nbformat_minor": 0
}
