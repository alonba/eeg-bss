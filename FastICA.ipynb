{
  "cells": [
    {
      "cell_type": "markdown",
      "metadata": {
        "colab_type": "text",
        "id": "view-in-github"
      },
      "source": [
        "<a href=\"https://colab.research.google.com/github/alonba/eeg-bss/blob/main/FastICA.ipynb\" target=\"_parent\"><img src=\"https://colab.research.google.com/assets/colab-badge.svg\" alt=\"Open In Colab\"/></a>"
      ]
    },
    {
      "cell_type": "code",
      "execution_count": 1,
      "metadata": {
        "colab": {
          "base_uri": "https://localhost:8080/"
        },
        "id": "DOm1apWSzgRL",
        "outputId": "ca443715-fb6e-4ece-bf01-b5bfb491954f"
      },
      "outputs": [],
      "source": [
        "import numpy as np\n",
        "import mne as mne\n",
        "\n",
        "ELECTRODES_NUM = 35\n",
        "\n",
        "root_folder = r\"C:\\Users\\alonb\\OneDrive - Technion\\טכניון\\סמסטר ט' - אביב 2022\\פרוייקט א\\eeg-bss\"\n",
        "train_sub_folder = r\"\\data\\after_ica\\train\"\n",
        "test_sub_folder = r\"\\data\\after_ica\\test\"\n",
        "file_name = r\"\\reconstructed_\"\n",
        "file_ext = \".set\""
      ]
    },
    {
      "cell_type": "code",
      "execution_count": 8,
      "metadata": {},
      "outputs": [
        {
          "name": "stdout",
          "output_type": "stream",
          "text": [
            "Extracting parameters from C:\\Users\\alonb\\OneDrive - Technion\\טכניון\\סמסטר ט' - אביב 2022\\פרוייקט א\\eeg-bss\\data\\35_electrodes_filtered_epoched.set...\n",
            "Not setting metadata\n",
            "460 matching events found\n",
            "No baseline correction applied\n",
            "0 projection items activated\n",
            "Ready.\n",
            "368\n",
            "92\n"
          ]
        }
      ],
      "source": [
        "# Fetch the data from the .set file\n",
        "eeglab_epochs = mne.io.read_epochs_eeglab(root_folder + r'\\data\\35_electrodes_filtered_epoched.set')\n",
        "\n",
        "# Create the train set and test set\n",
        "total_num_of_epochs = len(eeglab_epochs)\n",
        "\n",
        "train_set_indexes = []\n",
        "test_set_indexes = []\n",
        "for i in range(total_num_of_epochs):\n",
        "    random_num = np.random.rand()\n",
        "    if (random_num < 0.8):  # 80% chance of being here\n",
        "        train_set_indexes.append(i)\n",
        "    else:\n",
        "        test_set_indexes.append(i)\n",
        "\n",
        "train_set = eeglab_epochs[train_set_indexes]\n",
        "test_set = eeglab_epochs[test_set_indexes]\n",
        "\n",
        "print(len(train_set))\n",
        "print(len(test_set))"
      ]
    },
    {
      "cell_type": "code",
      "execution_count": 9,
      "metadata": {},
      "outputs": [],
      "source": [
        "# Export the Data\n",
        "mne.export.export_epochs(root_folder + r'\\data\\train_set.set', train_set, overwrite=True)\n",
        "mne.export.export_epochs(root_folder + r'\\data\\test_set.set', test_set, overwrite=True)"
      ]
    },
    {
      "cell_type": "code",
      "execution_count": 10,
      "metadata": {
        "colab": {
          "base_uri": "https://localhost:8080/",
          "height": 277
        },
        "id": "AJxL50CpxxUg",
        "outputId": "3daa635d-dbab-4446-a15e-bdf3d575a86f"
      },
      "outputs": [
        {
          "name": "stdout",
          "output_type": "stream",
          "text": [
            "Extracting parameters from C:\\Users\\alonb\\OneDrive - Technion\\טכניון\\סמסטר ט' - אביב 2022\\פרוייקט א\\eeg-bss\\data\\train_set.set...\n",
            "Not setting metadata\n",
            "368 matching events found\n",
            "No baseline correction applied\n",
            "0 projection items activated\n",
            "Ready.\n",
            "Fitting ICA to data using 35 channels (please be patient, this may take a while)\n"
          ]
        },
        {
          "name": "stderr",
          "output_type": "stream",
          "text": [
            "C:\\Users\\alonb\\AppData\\Local\\Temp\\ipykernel_524\\2097318266.py:3: RuntimeWarning: The data has not been high-pass filtered. For good ICA performance, it should be high-pass filtered (e.g., with a 1.0 Hz lower bound) before fitting ICA.\n",
            "  train_ica.fit(train_set)\n"
          ]
        },
        {
          "name": "stdout",
          "output_type": "stream",
          "text": [
            "Selecting by number: 35 components\n",
            "Fitting ICA took 153.2s.\n",
            "Extracting parameters from C:\\Users\\alonb\\OneDrive - Technion\\טכניון\\סמסטר ט' - אביב 2022\\פרוייקט א\\eeg-bss\\data\\test_set.set...\n",
            "Not setting metadata\n",
            "92 matching events found\n",
            "No baseline correction applied\n"
          ]
        },
        {
          "name": "stderr",
          "output_type": "stream",
          "text": [
            "c:\\Users\\alonb\\anaconda3\\envs\\eeg_bss\\lib\\site-packages\\sklearn\\decomposition\\_fastica.py:116: ConvergenceWarning: FastICA did not converge. Consider increasing tolerance or the maximum number of iterations.\n",
            "  warnings.warn(\n"
          ]
        },
        {
          "name": "stdout",
          "output_type": "stream",
          "text": [
            "0 projection items activated\n",
            "Ready.\n",
            "Fitting ICA to data using 35 channels (please be patient, this may take a while)\n",
            "Selecting by number: 35 components\n"
          ]
        },
        {
          "name": "stderr",
          "output_type": "stream",
          "text": [
            "C:\\Users\\alonb\\AppData\\Local\\Temp\\ipykernel_524\\2097318266.py:8: RuntimeWarning: The data has not been high-pass filtered. For good ICA performance, it should be high-pass filtered (e.g., with a 1.0 Hz lower bound) before fitting ICA.\n",
            "  test_ica.fit(test_set)\n"
          ]
        },
        {
          "name": "stdout",
          "output_type": "stream",
          "text": [
            "Fitting ICA took 28.4s.\n"
          ]
        },
        {
          "name": "stderr",
          "output_type": "stream",
          "text": [
            "c:\\Users\\alonb\\anaconda3\\envs\\eeg_bss\\lib\\site-packages\\sklearn\\decomposition\\_fastica.py:116: ConvergenceWarning: FastICA did not converge. Consider increasing tolerance or the maximum number of iterations.\n",
            "  warnings.warn(\n"
          ]
        }
      ],
      "source": [
        "train_set = mne.io.read_epochs_eeglab(root_folder + r'\\data\\train_set.set')\n",
        "train_ica = mne.preprocessing.ICA(n_components = ELECTRODES_NUM)  # Defaults to FastICA\n",
        "train_ica.fit(train_set)\n",
        "TRAIN_SET_NUM_OF_TRIALS, _ , NUM_OF_TIME_SAMPLES_IN_TRIAL = train_set.get_data().shape\n",
        "\n",
        "test_set = mne.io.read_epochs_eeglab(root_folder + r'\\data\\test_set.set')\n",
        "test_ica = mne.preprocessing.ICA(n_components = ELECTRODES_NUM)  # Defaults to FastICA\n",
        "test_ica.fit(test_set)\n",
        "TEST_SET_NUM_OF_TRIALS = test_set.get_data().shape[0]"
      ]
    },
    {
      "cell_type": "code",
      "execution_count": 13,
      "metadata": {},
      "outputs": [],
      "source": [
        "train_data = train_set.get_data()\n",
        "train_data_swapped = np.swapaxes(train_data,0,1)\n",
        "train_data_reshaped = train_data_swapped.reshape(ELECTRODES_NUM,TRAIN_SET_NUM_OF_TRIALS*NUM_OF_TIME_SAMPLES_IN_TRIAL)\n",
        "cov = np.cov(train_data_reshaped)\n",
        "x=2"
      ]
    },
    {
      "cell_type": "code",
      "execution_count": 67,
      "metadata": {},
      "outputs": [],
      "source": [
        "train_set_left = train_set['Left']\n",
        "train_set_right = train_set['Right']\n",
        "train_set_no_move = train_set['NoMove']\n",
        "\n",
        "TRAIN_LEFT_NUM_OF_TRIALS = len(train_set_left.selection)\n",
        "TRAIN_RIGHT_NUM_OF_TRIALS = len(train_set_right.selection)\n",
        "TRAIN_NO_MOVE_NUM_OF_TRIALS = len(train_set_no_move.selection)\n",
        "\n",
        "train_left_data = train_set_left.get_data()\n",
        "train_right_data = train_set_right.get_data()\n",
        "train_no_move_data = train_set_no_move.get_data()\n",
        "\n",
        "train_left_data_swapped = np.swapaxes(train_left_data,0,1)\n",
        "train_right_data_swapped = np.swapaxes(train_right_data,0,1)\n",
        "train_no_move_data_swapped = np.swapaxes(train_no_move_data,0,1)\n",
        "\n",
        "reshaped_train_set_left = train_left_data_swapped.reshape((ELECTRODES_NUM, TRAIN_LEFT_NUM_OF_TRIALS * NUM_OF_TIME_SAMPLES_IN_TRIAL))\n",
        "reshaped_train_set_right = train_right_data_swapped.reshape((ELECTRODES_NUM, TRAIN_RIGHT_NUM_OF_TRIALS * NUM_OF_TIME_SAMPLES_IN_TRIAL))\n",
        "reshaped_train_set_no_move = train_no_move_data_swapped.reshape((ELECTRODES_NUM, TRAIN_NO_MOVE_NUM_OF_TRIALS * NUM_OF_TIME_SAMPLES_IN_TRIAL))\n",
        "\n",
        "train_ICs_left = train_ica.unmixing_matrix_ @ reshaped_train_set_left\n",
        "train_ICs_right = train_ica.unmixing_matrix_ @ reshaped_train_set_right\n",
        "train_ICs_no_move = train_ica.unmixing_matrix_ @ reshaped_train_set_no_move\n",
        "\n",
        "train_ICs_left_reshaped = train_ICs_left.reshape((ELECTRODES_NUM, TRAIN_LEFT_NUM_OF_TRIALS, NUM_OF_TIME_SAMPLES_IN_TRIAL))\n",
        "train_ICs_right_reshaped = train_ICs_right.reshape((ELECTRODES_NUM, TRAIN_RIGHT_NUM_OF_TRIALS, NUM_OF_TIME_SAMPLES_IN_TRIAL))\n",
        "train_ICs_no_move_reshaped = train_ICs_no_move.reshape((ELECTRODES_NUM, TRAIN_NO_MOVE_NUM_OF_TRIALS, NUM_OF_TIME_SAMPLES_IN_TRIAL))\n",
        "\n",
        "train_ICs = np.concatenate((train_ICs_left_reshaped, train_ICs_right_reshaped, train_ICs_no_move_reshaped), axis=1)"
      ]
    },
    {
      "cell_type": "code",
      "execution_count": 68,
      "metadata": {},
      "outputs": [],
      "source": [
        "test_set_left = test_set['Left']\n",
        "test_set_right = test_set['Right']\n",
        "test_set_no_move = test_set['NoMove']\n",
        "\n",
        "TEST_LEFT_NUM_OF_TRIALS = len(test_set_left.selection)\n",
        "TEST_RIGHT_NUM_OF_TRIALS = len(test_set_right.selection)\n",
        "TEST_NO_MOVE_NUM_OF_TRIALS = len(test_set_no_move.selection)\n",
        "\n",
        "test_left_data = test_set_left.get_data()\n",
        "test_right_data = test_set_right.get_data()\n",
        "test_no_move_data = test_set_no_move.get_data()\n",
        "\n",
        "test_left_data_swapped = np.swapaxes(test_left_data,0,1)\n",
        "test_right_data_swapped = np.swapaxes(test_right_data,0,1)\n",
        "test_no_move_data_swapped = np.swapaxes(test_no_move_data,0,1)\n",
        "\n",
        "reshaped_test_set_left = test_left_data_swapped.reshape((ELECTRODES_NUM, TEST_LEFT_NUM_OF_TRIALS * NUM_OF_TIME_SAMPLES_IN_TRIAL))\n",
        "reshaped_test_set_right = test_right_data_swapped.reshape((ELECTRODES_NUM, TEST_RIGHT_NUM_OF_TRIALS * NUM_OF_TIME_SAMPLES_IN_TRIAL))\n",
        "reshaped_test_set_no_move = test_no_move_data_swapped.reshape((ELECTRODES_NUM, TEST_NO_MOVE_NUM_OF_TRIALS * NUM_OF_TIME_SAMPLES_IN_TRIAL))\n",
        "\n",
        "test_ICs_left = test_ica.unmixing_matrix_ @ reshaped_test_set_left\n",
        "test_ICs_right = test_ica.unmixing_matrix_ @ reshaped_test_set_right\n",
        "test_ICs_no_move = test_ica.unmixing_matrix_ @ reshaped_test_set_no_move\n",
        "\n",
        "test_ICs_left_reshaped = test_ICs_left.reshape((ELECTRODES_NUM, TEST_LEFT_NUM_OF_TRIALS, NUM_OF_TIME_SAMPLES_IN_TRIAL))\n",
        "test_ICs_right_reshaped = test_ICs_right.reshape((ELECTRODES_NUM, TEST_RIGHT_NUM_OF_TRIALS, NUM_OF_TIME_SAMPLES_IN_TRIAL))\n",
        "test_ICs_no_move_reshaped = test_ICs_no_move.reshape((ELECTRODES_NUM, TEST_NO_MOVE_NUM_OF_TRIALS, NUM_OF_TIME_SAMPLES_IN_TRIAL))\n",
        "\n",
        "test_ICs = np.concatenate((test_ICs_left_reshaped, test_ICs_right_reshaped, test_ICs_no_move_reshaped), axis=1)"
      ]
    },
    {
      "cell_type": "code",
      "execution_count": 72,
      "metadata": {},
      "outputs": [],
      "source": [
        "train_labels_left = np.full((TRAIN_LEFT_NUM_OF_TRIALS),1)\n",
        "train_labels_right = np.full((TRAIN_RIGHT_NUM_OF_TRIALS),2)\n",
        "train_labels_no_move = np.full((TRAIN_NO_MOVE_NUM_OF_TRIALS),3)\n",
        "train_labels = np.concatenate((train_labels_left, train_labels_right, train_labels_no_move))\n",
        "\n",
        "test_labels_left = np.full((TEST_LEFT_NUM_OF_TRIALS),1)\n",
        "test_labels_right = np.full((TEST_RIGHT_NUM_OF_TRIALS),2)\n",
        "test_labels_no_move = np.full((TEST_NO_MOVE_NUM_OF_TRIALS),3)\n",
        "test_labels = np.concatenate((test_labels_left, test_labels_right, test_labels_no_move))"
      ]
    },
    {
      "cell_type": "code",
      "execution_count": 73,
      "metadata": {},
      "outputs": [
        {
          "data": {
            "text/plain": [
              "array([2])"
            ]
          },
          "execution_count": 73,
          "metadata": {},
          "output_type": "execute_result"
        }
      ],
      "source": [
        "from sklearn import svm\n",
        "clf = svm.SVC()\n",
        "clf.fit(train_ICs[0], train_labels)\n",
        "clf.predict([test_ICs[0,0]])\n"
      ]
    },
    {
      "cell_type": "code",
      "execution_count": 74,
      "metadata": {},
      "outputs": [
        {
          "name": "stdout",
          "output_type": "stream",
          "text": [
            "1\n"
          ]
        }
      ],
      "source": [
        "print(test_labels[0])"
      ]
    },
    {
      "cell_type": "code",
      "execution_count": null,
      "metadata": {},
      "outputs": [],
      "source": [
        "# train_left_reconstructed = []\n",
        "# train_right_reconstructed = []\n",
        "# train_no_move_reconstructed = []\n",
        "# for i in range(ELECTRODES_NUM):\n",
        "#     tmp_train_left = train_set_left.copy()\n",
        "#     tmp_train_right = train_set_right.copy()\n",
        "#     tmp_train_no_move = train_set_no_move.copy()\n",
        "#     train_left_reconstructed.append(train_ica.apply(tmp_train_left,include=i))\n",
        "#     train_right_reconstructed.append(train_ica.apply(tmp_train_right,include=i))\n",
        "#     train_no_move_reconstructed.append(train_ica.apply(tmp_train_no_move,include=i))"
      ]
    },
    {
      "cell_type": "code",
      "execution_count": 21,
      "metadata": {},
      "outputs": [],
      "source": [
        "### Export the projected data to .set files, EEGLAB format\n",
        "\n",
        "# for i in range(ELECTRODES_NUM):\n",
        "#     mne.export.export_epochs(root_folder+train_sub_folder+r\"\\left\"+file_name+str(i)+file_ext,train_left_reconstructed[i])\n",
        "#     mne.export.export_epochs(root_folder+train_sub_folder+r\"\\right\"+file_name+str(i)+file_ext,train_right_reconstructed[i])\n",
        "#     mne.export.export_epochs(root_folder+train_sub_folder+r\"\\no_move\"+file_name+str(i)+file_ext,train_no_move_reconstructed[i])"
      ]
    },
    {
      "cell_type": "code",
      "execution_count": null,
      "metadata": {},
      "outputs": [],
      "source": [
        "# test_set = mne.io.read_epochs_eeglab(root_folder+r'\\data\\test_set.set')\n",
        "# test_ica = mne.preprocessing.ICA(n_components=ELECTRODES_NUM)  # Defaults to FastICA\n",
        "# test_ica.fit(test_set)\n",
        "\n",
        "# test_set_left=test_set['Left']\n",
        "# test_set_right=test_set['Right']\n",
        "# test_set_no_move=test_set['NoMove']\n",
        "\n",
        "# test_left_reconstructed = []\n",
        "# test_right_reconstructed = []\n",
        "# test_no_move_reconstructed = []\n",
        "# for i in range(ELECTRODES_NUM):\n",
        "#     tmp_test_left = test_set_left.copy()\n",
        "#     tmp_test_right = test_set_right.copy()\n",
        "#     tmp_test_no_move = test_set_no_move.copy()\n",
        "#     test_left_reconstructed.append(test_ica.apply(tmp_test_left,include=i))\n",
        "#     test_right_reconstructed.append(test_ica.apply(tmp_test_right,include=i))\n",
        "#     test_no_move_reconstructed.append(test_ica.apply(tmp_test_no_move,include=i))\n",
        "    \n",
        "# # Export the projected data to .set files, EEGLAB format\n",
        "# for i in range(ELECTRODES_NUM):\n",
        "#     mne.export.export_epochs(root_folder+test_sub_folder+r\"\\left\"+file_name+str(i)+file_ext,test_left_reconstructed[i])\n",
        "#     mne.export.export_epochs(root_folder+test_sub_folder+r\"\\right\"+file_name+str(i)+file_ext,test_right_reconstructed[i])\n",
        "#     mne.export.export_epochs(root_folder+test_sub_folder+r\"\\no_move\"+file_name+str(i)+file_ext,test_no_move_reconstructed[i])"
      ]
    },
    {
      "cell_type": "code",
      "execution_count": null,
      "metadata": {},
      "outputs": [],
      "source": [
        "# ### Import the projected data\n",
        "\n",
        "# train_left_reconstructed=[]\n",
        "# train_right_reconstructed=[]\n",
        "# train_no_move_reconstructed=[]\n",
        "# test_left_reconstructed=[]\n",
        "# test_right_reconstructed=[]\n",
        "# test_no_move_reconstructed=[]\n",
        "# for i in range(ELECTRODES_NUM):\n",
        "#     train_left_reconstructed.append(mne.read_epochs_eeglab(root_folder+train_sub_folder+r\"\\left\"+file_name+str(i)+file_ext))\n",
        "#     train_right_reconstructed.append(mne.read_epochs_eeglab(root_folder+train_sub_folder+r\"\\right\"+file_name+str(i)+file_ext))\n",
        "#     train_no_move_reconstructed.append(mne.read_epochs_eeglab(root_folder+train_sub_folder+r\"\\no_move\"+file_name+str(i)+file_ext))\n",
        "#     test_left_reconstructed.append(mne.read_epochs_eeglab(root_folder+test_sub_folder+r\"\\left\"+file_name+str(i)+file_ext))\n",
        "#     test_right_reconstructed.append(mne.read_epochs_eeglab(root_folder+test_sub_folder+r\"\\right\"+file_name+str(i)+file_ext))\n",
        "#     test_no_move_reconstructed.append(mne.read_epochs_eeglab(root_folder+test_sub_folder+r\"\\no_move\"+file_name+str(i)+file_ext))"
      ]
    }
  ],
  "metadata": {
    "colab": {
      "authorship_tag": "ABX9TyO1DKkxFxA50NjIAVRKsaIQ",
      "collapsed_sections": [],
      "include_colab_link": true,
      "name": "FastICA.ipynb",
      "provenance": []
    },
    "interpreter": {
      "hash": "67e3c108329f12f5017428fe2a369adc30e11445a3ac975861b336e7f7941808"
    },
    "kernelspec": {
      "display_name": "Python 3.9.12 ('eeg_bss')",
      "language": "python",
      "name": "python3"
    },
    "language_info": {
      "codemirror_mode": {
        "name": "ipython",
        "version": 3
      },
      "file_extension": ".py",
      "mimetype": "text/x-python",
      "name": "python",
      "nbconvert_exporter": "python",
      "pygments_lexer": "ipython3",
      "version": "3.9.12"
    }
  },
  "nbformat": 4,
  "nbformat_minor": 0
}
